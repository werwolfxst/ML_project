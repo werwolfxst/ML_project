{
 "cells": [
  {
   "cell_type": "code",
   "execution_count": 3,
   "metadata": {
    "collapsed": true
   },
   "outputs": [],
   "source": [
    "import pandas as pd\n",
    "import numpy as np\n",
    "import matplotlib \n",
    "import matplotlib.pyplot as plt\n",
    "%matplotlib inline"
   ]
  },
  {
   "cell_type": "code",
   "execution_count": 4,
   "metadata": {
    "collapsed": true
   },
   "outputs": [],
   "source": [
    "#loading the dataset\n",
    "df=pd.read_csv('newdataset1.csv')"
   ]
  },
  {
   "cell_type": "code",
   "execution_count": 5,
   "metadata": {},
   "outputs": [
    {
     "data": {
      "text/html": [
       "<div>\n",
       "<style>\n",
       "    .dataframe thead tr:only-child th {\n",
       "        text-align: right;\n",
       "    }\n",
       "\n",
       "    .dataframe thead th {\n",
       "        text-align: left;\n",
       "    }\n",
       "\n",
       "    .dataframe tbody tr th {\n",
       "        vertical-align: top;\n",
       "    }\n",
       "</style>\n",
       "<table border=\"1\" class=\"dataframe\">\n",
       "  <thead>\n",
       "    <tr style=\"text-align: right;\">\n",
       "      <th></th>\n",
       "      <th>Age</th>\n",
       "      <th>Overall</th>\n",
       "      <th>Potential</th>\n",
       "      <th>Value</th>\n",
       "      <th>Wage</th>\n",
       "      <th>Special</th>\n",
       "      <th>Acceleration</th>\n",
       "      <th>Aggression</th>\n",
       "      <th>Agility</th>\n",
       "      <th>Balance</th>\n",
       "      <th>...</th>\n",
       "      <th>RCB</th>\n",
       "      <th>RCM</th>\n",
       "      <th>RDM</th>\n",
       "      <th>RF</th>\n",
       "      <th>RM</th>\n",
       "      <th>RS</th>\n",
       "      <th>RW</th>\n",
       "      <th>RWB</th>\n",
       "      <th>ST</th>\n",
       "      <th>Preferred Positions</th>\n",
       "    </tr>\n",
       "  </thead>\n",
       "  <tbody>\n",
       "    <tr>\n",
       "      <th>0</th>\n",
       "      <td>32</td>\n",
       "      <td>94</td>\n",
       "      <td>94</td>\n",
       "      <td>95500000</td>\n",
       "      <td>565000</td>\n",
       "      <td>2228</td>\n",
       "      <td>89</td>\n",
       "      <td>63</td>\n",
       "      <td>89</td>\n",
       "      <td>63</td>\n",
       "      <td>...</td>\n",
       "      <td>53</td>\n",
       "      <td>82</td>\n",
       "      <td>62</td>\n",
       "      <td>91</td>\n",
       "      <td>89</td>\n",
       "      <td>92</td>\n",
       "      <td>91</td>\n",
       "      <td>66</td>\n",
       "      <td>92</td>\n",
       "      <td>ST</td>\n",
       "    </tr>\n",
       "    <tr>\n",
       "      <th>1</th>\n",
       "      <td>30</td>\n",
       "      <td>93</td>\n",
       "      <td>93</td>\n",
       "      <td>105000000</td>\n",
       "      <td>565000</td>\n",
       "      <td>2154</td>\n",
       "      <td>92</td>\n",
       "      <td>48</td>\n",
       "      <td>90</td>\n",
       "      <td>95</td>\n",
       "      <td>...</td>\n",
       "      <td>45</td>\n",
       "      <td>84</td>\n",
       "      <td>59</td>\n",
       "      <td>92</td>\n",
       "      <td>90</td>\n",
       "      <td>88</td>\n",
       "      <td>91</td>\n",
       "      <td>62</td>\n",
       "      <td>88</td>\n",
       "      <td>RW</td>\n",
       "    </tr>\n",
       "    <tr>\n",
       "      <th>2</th>\n",
       "      <td>25</td>\n",
       "      <td>92</td>\n",
       "      <td>94</td>\n",
       "      <td>123000000</td>\n",
       "      <td>280000</td>\n",
       "      <td>2100</td>\n",
       "      <td>94</td>\n",
       "      <td>56</td>\n",
       "      <td>96</td>\n",
       "      <td>82</td>\n",
       "      <td>...</td>\n",
       "      <td>46</td>\n",
       "      <td>79</td>\n",
       "      <td>59</td>\n",
       "      <td>88</td>\n",
       "      <td>87</td>\n",
       "      <td>84</td>\n",
       "      <td>89</td>\n",
       "      <td>64</td>\n",
       "      <td>84</td>\n",
       "      <td>LW</td>\n",
       "    </tr>\n",
       "    <tr>\n",
       "      <th>3</th>\n",
       "      <td>30</td>\n",
       "      <td>92</td>\n",
       "      <td>92</td>\n",
       "      <td>97000000</td>\n",
       "      <td>510000</td>\n",
       "      <td>2291</td>\n",
       "      <td>88</td>\n",
       "      <td>78</td>\n",
       "      <td>86</td>\n",
       "      <td>60</td>\n",
       "      <td>...</td>\n",
       "      <td>58</td>\n",
       "      <td>80</td>\n",
       "      <td>65</td>\n",
       "      <td>88</td>\n",
       "      <td>85</td>\n",
       "      <td>88</td>\n",
       "      <td>87</td>\n",
       "      <td>68</td>\n",
       "      <td>88</td>\n",
       "      <td>ST</td>\n",
       "    </tr>\n",
       "    <tr>\n",
       "      <th>4</th>\n",
       "      <td>28</td>\n",
       "      <td>91</td>\n",
       "      <td>91</td>\n",
       "      <td>92000000</td>\n",
       "      <td>355000</td>\n",
       "      <td>2143</td>\n",
       "      <td>79</td>\n",
       "      <td>80</td>\n",
       "      <td>78</td>\n",
       "      <td>80</td>\n",
       "      <td>...</td>\n",
       "      <td>57</td>\n",
       "      <td>78</td>\n",
       "      <td>62</td>\n",
       "      <td>87</td>\n",
       "      <td>82</td>\n",
       "      <td>88</td>\n",
       "      <td>84</td>\n",
       "      <td>61</td>\n",
       "      <td>88</td>\n",
       "      <td>ST</td>\n",
       "    </tr>\n",
       "    <tr>\n",
       "      <th>5</th>\n",
       "      <td>26</td>\n",
       "      <td>90</td>\n",
       "      <td>91</td>\n",
       "      <td>90500000</td>\n",
       "      <td>295000</td>\n",
       "      <td>2096</td>\n",
       "      <td>93</td>\n",
       "      <td>54</td>\n",
       "      <td>93</td>\n",
       "      <td>91</td>\n",
       "      <td>...</td>\n",
       "      <td>47</td>\n",
       "      <td>81</td>\n",
       "      <td>61</td>\n",
       "      <td>87</td>\n",
       "      <td>87</td>\n",
       "      <td>82</td>\n",
       "      <td>88</td>\n",
       "      <td>64</td>\n",
       "      <td>82</td>\n",
       "      <td>LW</td>\n",
       "    </tr>\n",
       "  </tbody>\n",
       "</table>\n",
       "<p>6 rows × 62 columns</p>\n",
       "</div>"
      ],
      "text/plain": [
       "   Age  Overall  Potential      Value    Wage  Special  Acceleration  \\\n",
       "0   32       94         94   95500000  565000     2228            89   \n",
       "1   30       93         93  105000000  565000     2154            92   \n",
       "2   25       92         94  123000000  280000     2100            94   \n",
       "3   30       92         92   97000000  510000     2291            88   \n",
       "4   28       91         91   92000000  355000     2143            79   \n",
       "5   26       90         91   90500000  295000     2096            93   \n",
       "\n",
       "   Aggression  Agility  Balance         ...           RCB  RCM  RDM  RF  RM  \\\n",
       "0          63       89       63         ...            53   82   62  91  89   \n",
       "1          48       90       95         ...            45   84   59  92  90   \n",
       "2          56       96       82         ...            46   79   59  88  87   \n",
       "3          78       86       60         ...            58   80   65  88  85   \n",
       "4          80       78       80         ...            57   78   62  87  82   \n",
       "5          54       93       91         ...            47   81   61  87  87   \n",
       "\n",
       "   RS  RW  RWB  ST  Preferred Positions  \n",
       "0  92  91   66  92                   ST  \n",
       "1  88  91   62  88                   RW  \n",
       "2  84  89   64  84                   LW  \n",
       "3  88  87   68  88                   ST  \n",
       "4  88  84   61  88                   ST  \n",
       "5  82  88   64  82                   LW  \n",
       "\n",
       "[6 rows x 62 columns]"
      ]
     },
     "execution_count": 5,
     "metadata": {},
     "output_type": "execute_result"
    }
   ],
   "source": [
    "df.head(6)"
   ]
  },
  {
   "cell_type": "code",
   "execution_count": 6,
   "metadata": {
    "collapsed": true
   },
   "outputs": [],
   "source": [
    "#Choosing the appropriate attributes to use\n",
    "xnames = np.asarray(df.columns.tolist())[:35]\n",
    "xnames = np.delete(xnames,[1,2,3,4])"
   ]
  },
  {
   "cell_type": "code",
   "execution_count": 7,
   "metadata": {},
   "outputs": [
    {
     "data": {
      "text/plain": [
       "(31,)"
      ]
     },
     "execution_count": 7,
     "metadata": {},
     "output_type": "execute_result"
    }
   ],
   "source": [
    "xnames.shape"
   ]
  },
  {
   "cell_type": "code",
   "execution_count": 8,
   "metadata": {
    "collapsed": true
   },
   "outputs": [],
   "source": [
    "y=df['Overall'].as_matrix()\n",
    "dummy = df[xnames].as_matrix()\n",
    "position = df['Preferred Positions'].as_matrix()\n",
    "position_unique,position = np.unique(position, return_inverse=True)"
   ]
  },
  {
   "cell_type": "code",
   "execution_count": 9,
   "metadata": {
    "collapsed": true
   },
   "outputs": [],
   "source": [
    "x = np.ndarray((len(y),32))\n",
    "x[:,:31]=dummy\n",
    "x[:,31] = position"
   ]
  },
  {
   "cell_type": "code",
   "execution_count": 10,
   "metadata": {},
   "outputs": [
    {
     "name": "stderr",
     "output_type": "stream",
     "text": [
      "/anaconda/lib/python3.6/site-packages/sklearn/utils/validation.py:429: DataConversionWarning: Data with input dtype int64 was converted to float64 by the scale function.\n",
      "  warnings.warn(msg, _DataConversionWarning)\n"
     ]
    }
   ],
   "source": [
    "#preprocessing\n",
    "from sklearn import linear_model, preprocessing\n",
    "x = preprocessing.scale(x)\n",
    "y = preprocessing.scale(y)"
   ]
  },
  {
   "cell_type": "code",
   "execution_count": 11,
   "metadata": {
    "collapsed": true
   },
   "outputs": [],
   "source": [
    "X=x\n",
    "Y=y"
   ]
  },
  {
   "cell_type": "code",
   "execution_count": 12,
   "metadata": {
    "collapsed": true
   },
   "outputs": [],
   "source": [
    "import  sklearn.model_selection\n",
    "from sklearn import linear_model"
   ]
  },
  {
   "cell_type": "code",
   "execution_count": 13,
   "metadata": {},
   "outputs": [
    {
     "data": {
      "text/plain": [
       "(15143, 32)"
      ]
     },
     "execution_count": 13,
     "metadata": {},
     "output_type": "execute_result"
    }
   ],
   "source": [
    "X.shape"
   ]
  },
  {
   "cell_type": "code",
   "execution_count": 14,
   "metadata": {
    "collapsed": true
   },
   "outputs": [],
   "source": [
    "nfold = 10\n",
    "kf = sklearn.model_selection.KFold(n_splits=nfold,shuffle=True)\n",
    "\n",
    "# Create the LASSO model.  We use the `warm start` parameter so that the fit will start at the previous value.\n",
    "# This speeds up the fitting.\n",
    "model = linear_model.Lasso(warm_start=True)\n",
    "\n",
    "# Regularization values to test\n",
    "nalpha = 100\n",
    "alphas = np.logspace(-2,1,nalpha)\n",
    "\n",
    "# MSE for each alpha and fold value\n",
    "mse = np.zeros((nalpha,nfold))\n",
    "for ifold, ind in enumerate(kf.split(X)):\n",
    "    \n",
    "    \n",
    "    # Get the training data in the split\n",
    "    Itr,Its = ind\n",
    "    X_tr = X[Itr,:]\n",
    "    y_tr = Y[Itr]\n",
    "    X_ts = X[Its,:]\n",
    "    y_ts = Y[Its]\n",
    "    \n",
    "    # Compute the lasso path for the split\n",
    "    for ia, a in enumerate(alphas):\n",
    "        \n",
    "        # Fit the model on the training data\n",
    "        model.alpha = a\n",
    "        model.fit(X_tr,y_tr)\n",
    "        \n",
    "        # Compute the prediction error on the test data\n",
    "        y_ts_pred = model.predict(X_ts)\n",
    "        mse[ia,ifold] = np.mean((y_ts_pred-y_ts)**2)"
   ]
  },
  {
   "cell_type": "code",
   "execution_count": 15,
   "metadata": {},
   "outputs": [
    {
     "data": {
      "image/png": "[encoded data removed]",
      "text/plain": [
       "<matplotlib.figure.Figure at 0x119c7db38>"
      ]
     },
     "metadata": {},
     "output_type": "display_data"
    }
   ],
   "source": [
    "mse_mean = np.mean(mse,axis=1)\n",
    "mse_std = np.std(mse,axis=1) / np.sqrt(nfold-1)\n",
    "\n",
    "# Plot the mean MSE and the mean MSE + 1 std dev\n",
    "plt.semilogx(alphas, mse_mean)\n",
    "plt.semilogx(alphas, mse_mean+mse_std)\n",
    "plt.legend(['Mean MSE', 'Mean MSE+1 SE'],loc='upper left')\n",
    "plt.xlabel('alpha')\n",
    "plt.ylabel('Test MSE')\n",
    "plt.grid()\n",
    "plt.show()"
   ]
  },
  {
   "cell_type": "code",
   "execution_count": 16,
   "metadata": {},
   "outputs": [
    {
     "name": "stdout",
     "output_type": "stream",
     "text": [
      "Optimal alpha = 0.012328\n"
     ]
    },
    {
     "data": {
      "image/png": "[encoded data removed]",
      "text/plain": [
       "<matplotlib.figure.Figure at 0x12140e748>"
      ]
     },
     "metadata": {},
     "output_type": "display_data"
    }
   ],
   "source": [
    "# Find the minimum MSE and MSE target\n",
    "imin = np.argmin(mse_mean)\n",
    "mse_tgt = mse_mean[imin] + mse_std[imin]\n",
    "alpha_min = alphas[imin]\n",
    "\n",
    "# Find the least complex model with mse_mean < mse_tgt\n",
    "I = np.where(mse_mean < mse_tgt)[0]\n",
    "iopt = I[-1]\n",
    "alpha_opt = alphas[iopt]\n",
    "print(\"Optimal alpha = %f\" % alpha_opt)\n",
    "\n",
    "# Plot the mean MSE and the mean MSE + 1 std dev\n",
    "plt.semilogx(alphas, mse_mean)\n",
    "plt.semilogx(alphas, mse_mean+mse_std)\n",
    "\n",
    "# Plot the MSE target\n",
    "plt.semilogx([alpha_min,alpha_opt], [mse_tgt,mse_tgt], 'rs--')\n",
    "\n",
    "# Plot the optimal alpha line\n",
    "plt.semilogx([alpha_opt,alpha_opt], [0.35,mse_mean[iopt]], 'ro--')\n",
    "\n",
    "plt.legend(['Mean MSE', 'Mean MSE+1 SE', 'MSE target','alpha opt'],loc='upper left')\n",
    "plt.xlabel('alpha')\n",
    "plt.ylabel('Test MSE')\n",
    "plt.ylim([0,1.2])\n",
    "plt.grid()\n",
    "plt.show()"
   ]
  },
  {
   "cell_type": "code",
   "execution_count": 17,
   "metadata": {},
   "outputs": [
    {
     "name": "stdout",
     "output_type": "stream",
     "text": [
      "Age\t 0.025758\n",
      "Special\t 0.054120\n",
      "Acceleration\t 0.044800\n",
      "Ball control\t 0.232896\n",
      "Composure\t 0.193608\n",
      "Crossing\t 0.001786\n",
      "Heading accuracy\t 0.167199\n",
      "Interceptions\t 0.007128\n",
      "Reactions\t 0.335980\n",
      "Short passing\t 0.095607\n",
      "Sprint speed\t 0.062715\n",
      "Stamina\t 0.002869\n",
      "Standing tackle\t 0.050580\n",
      "Strength\t 0.085318\n"
     ]
    }
   ],
   "source": [
    "#Finding optimal alpha\n",
    "np.append(xnames,'Preferred Positions')\n",
    "model.alpha = alpha_opt\n",
    "#print(alpha_opt)\n",
    "model.fit(X,Y)\n",
    "\n",
    "new = []\n",
    "\n",
    "# print all the attributes that are significant.\n",
    "for i in range(len(model.coef_)-1):\n",
    "    if model.coef_[i]>0:\n",
    "        print(\"%s\\t %f\" % (xnames[i], model.coef_[i]))\n",
    "        new.append(xnames[i])"
   ]
  },
  {
   "cell_type": "code",
   "execution_count": 18,
   "metadata": {
    "collapsed": true
   },
   "outputs": [],
   "source": []
  },
  {
   "cell_type": "code",
   "execution_count": 19,
   "metadata": {
    "collapsed": true
   },
   "outputs": [],
   "source": [
    "new = np.asarray(new)"
   ]
  },
  {
   "cell_type": "code",
   "execution_count": 20,
   "metadata": {},
   "outputs": [
    {
     "name": "stderr",
     "output_type": "stream",
     "text": [
      "/anaconda/lib/python3.6/site-packages/sklearn/utils/validation.py:429: DataConversionWarning: Data with input dtype int64 was converted to float64 by the scale function.\n",
      "  warnings.warn(msg, _DataConversionWarning)\n"
     ]
    }
   ],
   "source": [
    "X_new = df[new].as_matrix()\n",
    "#Y_new = df['Wage'].as_matrix()\n",
    "Y_new = df['Overall'].as_matrix()\n",
    "X_new = preprocessing.scale(X_new)\n",
    "Y_new = preprocessing.scale(Y_new)"
   ]
  },
  {
   "cell_type": "code",
   "execution_count": 21,
   "metadata": {},
   "outputs": [
    {
     "data": {
      "text/plain": [
       "(15143, 14)"
      ]
     },
     "execution_count": 21,
     "metadata": {},
     "output_type": "execute_result"
    }
   ],
   "source": [
    "X_new.shape"
   ]
  },
  {
   "cell_type": "code",
   "execution_count": 22,
   "metadata": {},
   "outputs": [
    {
     "data": {
      "text/plain": [
       "Lasso(alpha=0.012328467394420659, copy_X=True, fit_intercept=True,\n",
       "   max_iter=1000, normalize=False, positive=False, precompute=False,\n",
       "   random_state=None, selection='cyclic', tol=0.0001, warm_start=True)"
      ]
     },
     "execution_count": 22,
     "metadata": {},
     "output_type": "execute_result"
    }
   ],
   "source": [
    "#Fitting the model using optimal alpha\n",
    "model_new = linear_model.Lasso(warm_start=True)\n",
    "model_new.alpha = alpha_opt\n",
    "model_new.fit(X_new,Y_new)"
   ]
  },
  {
   "cell_type": "code",
   "execution_count": 23,
   "metadata": {},
   "outputs": [
    {
     "name": "stdout",
     "output_type": "stream",
     "text": [
      "0.0123284673944\n"
     ]
    }
   ],
   "source": [
    "print(model_new.alpha)"
   ]
  },
  {
   "cell_type": "code",
   "execution_count": 24,
   "metadata": {},
   "outputs": [
    {
     "name": "stdout",
     "output_type": "stream",
     "text": [
      "Rss per sample=0.149131\n",
      "R^2=           0.850869\n"
     ]
    }
   ],
   "source": [
    "#Calculating the accuracy\n",
    "y_pred=model_new.predict(X_new)\n",
    "RSS=np.mean((y_pred-Y_new)**2)/(np.std(Y_new)**2)\n",
    "Rsq=1-RSS\n",
    "print(\"Rss per sample={0:f}\".format(RSS))\n",
    "print(\"R^2=           {0:f}\".format(Rsq))"
   ]
  }
 ],
 "metadata": {
  "kernelspec": {
   "display_name": "Python 3",
   "language": "python",
   "name": "python3"
  },
  "language_info": {
   "codemirror_mode": {
    "name": "ipython",
    "version": 3
   },
   "file_extension": ".py",
   "mimetype": "text/x-python",
   "name": "python",
   "nbconvert_exporter": "python",
   "pygments_lexer": "ipython3",
   "version": "3.6.1"
  }
 },
 "nbformat": 4,
 "nbformat_minor": 2
}

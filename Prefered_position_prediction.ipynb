{
 "cells": [
  {
   "cell_type": "code",
   "execution_count": 1,
   "metadata": {
    "collapsed": true
   },
   "outputs": [],
   "source": [
    "import pandas as pd\n",
    "import numpy as np\n",
    "import matplotlib \n",
    "import matplotlib.pyplot as plt\n",
    "%matplotlib inline"
   ]
  },
  {
   "cell_type": "code",
   "execution_count": 2,
   "metadata": {
    "collapsed": true
   },
   "outputs": [],
   "source": [
    "#Loading the dataset\n",
    "df=pd.read_csv('newdataset2.csv')"
   ]
  },
  {
   "cell_type": "code",
   "execution_count": 3,
   "metadata": {},
   "outputs": [
    {
     "data": {
      "text/html": [
       "<div>\n",
       "<style>\n",
       "    .dataframe thead tr:only-child th {\n",
       "        text-align: right;\n",
       "    }\n",
       "\n",
       "    .dataframe thead th {\n",
       "        text-align: left;\n",
       "    }\n",
       "\n",
       "    .dataframe tbody tr th {\n",
       "        vertical-align: top;\n",
       "    }\n",
       "</style>\n",
       "<table border=\"1\" class=\"dataframe\">\n",
       "  <thead>\n",
       "    <tr style=\"text-align: right;\">\n",
       "      <th></th>\n",
       "      <th>Unnamed: 0</th>\n",
       "      <th>Name</th>\n",
       "      <th>Age</th>\n",
       "      <th>Photo</th>\n",
       "      <th>Nationality</th>\n",
       "      <th>Flag</th>\n",
       "      <th>Overall</th>\n",
       "      <th>Potential</th>\n",
       "      <th>Club</th>\n",
       "      <th>Club Logo</th>\n",
       "      <th>...</th>\n",
       "      <th>RDM</th>\n",
       "      <th>RF</th>\n",
       "      <th>RM</th>\n",
       "      <th>RS</th>\n",
       "      <th>RW</th>\n",
       "      <th>RWB</th>\n",
       "      <th>ST</th>\n",
       "      <th>Preferred Positions</th>\n",
       "      <th>Unnamed: 74</th>\n",
       "      <th>ID</th>\n",
       "    </tr>\n",
       "  </thead>\n",
       "  <tbody>\n",
       "    <tr>\n",
       "      <th>0</th>\n",
       "      <td>0</td>\n",
       "      <td>Cristiano Ronaldo</td>\n",
       "      <td>32</td>\n",
       "      <td>https://cdn.sofifa.org/48/18/players/20801.png</td>\n",
       "      <td>Portugal</td>\n",
       "      <td>https://cdn.sofifa.org/flags/38.png</td>\n",
       "      <td>94</td>\n",
       "      <td>94</td>\n",
       "      <td>Real Madrid CF</td>\n",
       "      <td>https://cdn.sofifa.org/24/18/teams/243.png</td>\n",
       "      <td>...</td>\n",
       "      <td>62</td>\n",
       "      <td>91</td>\n",
       "      <td>89</td>\n",
       "      <td>92</td>\n",
       "      <td>91</td>\n",
       "      <td>66</td>\n",
       "      <td>92</td>\n",
       "      <td>ST</td>\n",
       "      <td>NaN</td>\n",
       "      <td>20801</td>\n",
       "    </tr>\n",
       "    <tr>\n",
       "      <th>1</th>\n",
       "      <td>1</td>\n",
       "      <td>L. Messi</td>\n",
       "      <td>30</td>\n",
       "      <td>https://cdn.sofifa.org/48/18/players/158023.png</td>\n",
       "      <td>Argentina</td>\n",
       "      <td>https://cdn.sofifa.org/flags/52.png</td>\n",
       "      <td>93</td>\n",
       "      <td>93</td>\n",
       "      <td>FC Barcelona</td>\n",
       "      <td>https://cdn.sofifa.org/24/18/teams/241.png</td>\n",
       "      <td>...</td>\n",
       "      <td>59</td>\n",
       "      <td>92</td>\n",
       "      <td>90</td>\n",
       "      <td>88</td>\n",
       "      <td>91</td>\n",
       "      <td>62</td>\n",
       "      <td>88</td>\n",
       "      <td>RW</td>\n",
       "      <td>NaN</td>\n",
       "      <td>158023</td>\n",
       "    </tr>\n",
       "    <tr>\n",
       "      <th>2</th>\n",
       "      <td>2</td>\n",
       "      <td>Neymar</td>\n",
       "      <td>25</td>\n",
       "      <td>https://cdn.sofifa.org/48/18/players/190871.png</td>\n",
       "      <td>Brazil</td>\n",
       "      <td>https://cdn.sofifa.org/flags/54.png</td>\n",
       "      <td>92</td>\n",
       "      <td>94</td>\n",
       "      <td>Paris Saint-Germain</td>\n",
       "      <td>https://cdn.sofifa.org/24/18/teams/73.png</td>\n",
       "      <td>...</td>\n",
       "      <td>59</td>\n",
       "      <td>88</td>\n",
       "      <td>87</td>\n",
       "      <td>84</td>\n",
       "      <td>89</td>\n",
       "      <td>64</td>\n",
       "      <td>84</td>\n",
       "      <td>LW</td>\n",
       "      <td>NaN</td>\n",
       "      <td>190871</td>\n",
       "    </tr>\n",
       "    <tr>\n",
       "      <th>3</th>\n",
       "      <td>3</td>\n",
       "      <td>L. Su??rez</td>\n",
       "      <td>30</td>\n",
       "      <td>https://cdn.sofifa.org/48/18/players/176580.png</td>\n",
       "      <td>Uruguay</td>\n",
       "      <td>https://cdn.sofifa.org/flags/60.png</td>\n",
       "      <td>92</td>\n",
       "      <td>92</td>\n",
       "      <td>FC Barcelona</td>\n",
       "      <td>https://cdn.sofifa.org/24/18/teams/241.png</td>\n",
       "      <td>...</td>\n",
       "      <td>65</td>\n",
       "      <td>88</td>\n",
       "      <td>85</td>\n",
       "      <td>88</td>\n",
       "      <td>87</td>\n",
       "      <td>68</td>\n",
       "      <td>88</td>\n",
       "      <td>ST</td>\n",
       "      <td>NaN</td>\n",
       "      <td>176580</td>\n",
       "    </tr>\n",
       "    <tr>\n",
       "      <th>4</th>\n",
       "      <td>5</td>\n",
       "      <td>R. Lewandowski</td>\n",
       "      <td>28</td>\n",
       "      <td>https://cdn.sofifa.org/48/18/players/188545.png</td>\n",
       "      <td>Poland</td>\n",
       "      <td>https://cdn.sofifa.org/flags/37.png</td>\n",
       "      <td>91</td>\n",
       "      <td>91</td>\n",
       "      <td>FC Bayern Munich</td>\n",
       "      <td>https://cdn.sofifa.org/24/18/teams/21.png</td>\n",
       "      <td>...</td>\n",
       "      <td>62</td>\n",
       "      <td>87</td>\n",
       "      <td>82</td>\n",
       "      <td>88</td>\n",
       "      <td>84</td>\n",
       "      <td>61</td>\n",
       "      <td>88</td>\n",
       "      <td>ST</td>\n",
       "      <td>NaN</td>\n",
       "      <td>188545</td>\n",
       "    </tr>\n",
       "    <tr>\n",
       "      <th>5</th>\n",
       "      <td>7</td>\n",
       "      <td>E. Hazard</td>\n",
       "      <td>26</td>\n",
       "      <td>https://cdn.sofifa.org/48/18/players/183277.png</td>\n",
       "      <td>Belgium</td>\n",
       "      <td>https://cdn.sofifa.org/flags/7.png</td>\n",
       "      <td>90</td>\n",
       "      <td>91</td>\n",
       "      <td>Chelsea</td>\n",
       "      <td>https://cdn.sofifa.org/24/18/teams/5.png</td>\n",
       "      <td>...</td>\n",
       "      <td>61</td>\n",
       "      <td>87</td>\n",
       "      <td>87</td>\n",
       "      <td>82</td>\n",
       "      <td>88</td>\n",
       "      <td>64</td>\n",
       "      <td>82</td>\n",
       "      <td>LW</td>\n",
       "      <td>NaN</td>\n",
       "      <td>183277</td>\n",
       "    </tr>\n",
       "  </tbody>\n",
       "</table>\n",
       "<p>6 rows × 76 columns</p>\n",
       "</div>"
      ],
      "text/plain": [
       "   Unnamed: 0               Name  Age  \\\n",
       "0           0  Cristiano Ronaldo   32   \n",
       "1           1           L. Messi   30   \n",
       "2           2             Neymar   25   \n",
       "3           3         L. Su??rez   30   \n",
       "4           5     R. Lewandowski   28   \n",
       "5           7          E. Hazard   26   \n",
       "\n",
       "                                             Photo Nationality  \\\n",
       "0   https://cdn.sofifa.org/48/18/players/20801.png    Portugal   \n",
       "1  https://cdn.sofifa.org/48/18/players/158023.png   Argentina   \n",
       "2  https://cdn.sofifa.org/48/18/players/190871.png      Brazil   \n",
       "3  https://cdn.sofifa.org/48/18/players/176580.png     Uruguay   \n",
       "4  https://cdn.sofifa.org/48/18/players/188545.png      Poland   \n",
       "5  https://cdn.sofifa.org/48/18/players/183277.png     Belgium   \n",
       "\n",
       "                                  Flag  Overall  Potential  \\\n",
       "0  https://cdn.sofifa.org/flags/38.png       94         94   \n",
       "1  https://cdn.sofifa.org/flags/52.png       93         93   \n",
       "2  https://cdn.sofifa.org/flags/54.png       92         94   \n",
       "3  https://cdn.sofifa.org/flags/60.png       92         92   \n",
       "4  https://cdn.sofifa.org/flags/37.png       91         91   \n",
       "5   https://cdn.sofifa.org/flags/7.png       90         91   \n",
       "\n",
       "                  Club                                   Club Logo   ...    \\\n",
       "0       Real Madrid CF  https://cdn.sofifa.org/24/18/teams/243.png   ...     \n",
       "1         FC Barcelona  https://cdn.sofifa.org/24/18/teams/241.png   ...     \n",
       "2  Paris Saint-Germain   https://cdn.sofifa.org/24/18/teams/73.png   ...     \n",
       "3         FC Barcelona  https://cdn.sofifa.org/24/18/teams/241.png   ...     \n",
       "4     FC Bayern Munich   https://cdn.sofifa.org/24/18/teams/21.png   ...     \n",
       "5              Chelsea    https://cdn.sofifa.org/24/18/teams/5.png   ...     \n",
       "\n",
       "   RDM  RF  RM  RS  RW  RWB  ST  Preferred Positions  Unnamed: 74      ID  \n",
       "0   62  91  89  92  91   66  92                   ST          NaN   20801  \n",
       "1   59  92  90  88  91   62  88                   RW          NaN  158023  \n",
       "2   59  88  87  84  89   64  84                   LW          NaN  190871  \n",
       "3   65  88  85  88  87   68  88                   ST          NaN  176580  \n",
       "4   62  87  82  88  84   61  88                   ST          NaN  188545  \n",
       "5   61  87  87  82  88   64  82                   LW          NaN  183277  \n",
       "\n",
       "[6 rows x 76 columns]"
      ]
     },
     "execution_count": 3,
     "metadata": {},
     "output_type": "execute_result"
    }
   ],
   "source": [
    "df.head(6)"
   ]
  },
  {
   "cell_type": "code",
   "execution_count": 4,
   "metadata": {},
   "outputs": [
    {
     "name": "stdout",
     "output_type": "stream",
     "text": [
      "['ST' 'RW' 'LW' ..., 'ST' 'CM' 'ST']\n"
     ]
    }
   ],
   "source": [
    "position = df['Preferred Positions'].values\n",
    "print(position)"
   ]
  },
  {
   "cell_type": "code",
   "execution_count": 5,
   "metadata": {},
   "outputs": [
    {
     "name": "stdout",
     "output_type": "stream",
     "text": [
      "['CAM' 'CB' 'CDM' 'CF' 'CM' 'LB' 'LM' 'LW' 'LWB' 'RB' 'RM' 'RW' 'RWB' 'ST']\n"
     ]
    }
   ],
   "source": [
    "#Changing positons to corresponding class value\n",
    "positionvals, positions = np.unique(position, return_inverse = True)\n",
    "print(positionvals)"
   ]
  },
  {
   "cell_type": "code",
   "execution_count": 6,
   "metadata": {},
   "outputs": [
    {
     "name": "stdout",
     "output_type": "stream",
     "text": [
      "Index(['CAM', 'CB', 'CDM', 'CF', 'CM', 'LAM', 'LB', 'LCB', 'LCM', 'LDM', 'LF',\n",
      "       'LM', 'LS', 'LW', 'LWB', 'RAM', 'RB', 'RCB', 'RCM', 'RDM', 'RF', 'RM',\n",
      "       'RS', 'RW', 'RWB', 'ST'],\n",
      "      dtype='object')\n"
     ]
    }
   ],
   "source": [
    "xnames = df.columns[47:73]\n",
    "print(xnames)"
   ]
  },
  {
   "cell_type": "code",
   "execution_count": 7,
   "metadata": {
    "collapsed": true
   },
   "outputs": [],
   "source": [
    "from sklearn import linear_model, preprocessing"
   ]
  },
  {
   "cell_type": "code",
   "execution_count": 8,
   "metadata": {},
   "outputs": [
    {
     "name": "stderr",
     "output_type": "stream",
     "text": [
      "/anaconda/lib/python3.6/site-packages/sklearn/utils/validation.py:429: DataConversionWarning: Data with input dtype int64 was converted to float64 by the scale function.\n",
      "  warnings.warn(msg, _DataConversionWarning)\n"
     ]
    }
   ],
   "source": [
    "X = np.array(df[xnames].values)\n",
    "Xs = preprocessing.scale(X)"
   ]
  },
  {
   "cell_type": "code",
   "execution_count": 9,
   "metadata": {
    "collapsed": true
   },
   "outputs": [],
   "source": [
    "from sklearn import tree"
   ]
  },
  {
   "cell_type": "code",
   "execution_count": 10,
   "metadata": {
    "collapsed": true
   },
   "outputs": [],
   "source": [
    "#defining decesion tree\n",
    "y = positions\n",
    "dtree = tree.DecisionTreeClassifier()\n",
    "dtree = dtree.fit(Xs, y)"
   ]
  },
  {
   "cell_type": "code",
   "execution_count": 11,
   "metadata": {
    "collapsed": true
   },
   "outputs": [],
   "source": [
    "yhat2 = dtree.predict(Xs)"
   ]
  },
  {
   "cell_type": "code",
   "execution_count": 12,
   "metadata": {},
   "outputs": [
    {
     "name": "stdout",
     "output_type": "stream",
     "text": [
      "Accurary = 0.998151\n"
     ]
    }
   ],
   "source": [
    "#calculating the accuracy\n",
    "acc2 = np.mean(yhat2 == y)\n",
    "print('Accurary = {0:f}'.format(acc2))"
   ]
  },
  {
   "cell_type": "code",
   "execution_count": 13,
   "metadata": {},
   "outputs": [
    {
     "name": "stdout",
     "output_type": "stream",
     "text": [
      "Misclassfied Positions\n",
      "CAM CF\n",
      "0 3\n",
      "LM RM\n",
      "6 10\n",
      "LM RM\n",
      "6 10\n",
      "CAM CM\n",
      "0 4\n",
      "CAM RM\n",
      "0 10\n",
      "CAM RB\n",
      "0 9\n",
      "CM LM\n",
      "4 6\n",
      "CF LM\n",
      "3 6\n",
      "CF ST\n",
      "3 13\n",
      "RW ST\n",
      "11 13\n",
      "LM RM\n",
      "6 10\n",
      "LM RB\n",
      "6 9\n",
      "CAM CF\n",
      "0 3\n",
      "LM RM\n",
      "6 10\n",
      "RM ST\n",
      "10 13\n",
      "CAM LM\n",
      "0 6\n",
      "RM ST\n",
      "10 13\n",
      "CAM RM\n",
      "0 10\n",
      "LM RM\n",
      "6 10\n",
      "CM LM\n",
      "4 6\n",
      "CAM RM\n",
      "0 10\n",
      "CDM RM\n",
      "2 10\n",
      "CAM LM\n",
      "0 6\n",
      "CF LM\n",
      "3 6\n",
      "LM RB\n",
      "6 9\n",
      "LM RB\n",
      "6 9\n",
      "CF RM\n",
      "3 10\n",
      "LW RW\n",
      "7 11\n"
     ]
    }
   ],
   "source": [
    "# printing all the misclassified positions\n",
    "print(\"Misclassfied Positions\")\n",
    "for i in range(len(y)):\n",
    "    if yhat2[i] != y[i]:\n",
    "        print(str(positionvals[yhat2[i]])+' '+str(positionvals[y[i]]))\n",
    "        print(str(yhat2[i])+' '+str(y[i]))\n"
   ]
  },
  {
   "cell_type": "code",
   "execution_count": null,
   "metadata": {
    "collapsed": true
   },
   "outputs": [],
   "source": []
  }
 ],
 "metadata": {
  "kernelspec": {
   "display_name": "Python 3",
   "language": "python",
   "name": "python3"
  },
  "language_info": {
   "codemirror_mode": {
    "name": "ipython",
    "version": 3
   },
   "file_extension": ".py",
   "mimetype": "text/x-python",
   "name": "python",
   "nbconvert_exporter": "python",
   "pygments_lexer": "ipython3",
   "version": "3.6.1"
  }
 },
 "nbformat": 4,
 "nbformat_minor": 2
}

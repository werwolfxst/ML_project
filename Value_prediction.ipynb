{
 "cells": [
  {
   "cell_type": "code",
   "execution_count": 37,
   "metadata": {
    "collapsed": true
   },
   "outputs": [],
   "source": [
    "import pandas as pd\n",
    "import numpy as np\n",
    "import matplotlib \n",
    "import matplotlib.pyplot as plt\n",
    "%matplotlib inline"
   ]
  },
  {
   "cell_type": "code",
   "execution_count": 38,
   "metadata": {
    "collapsed": true
   },
   "outputs": [],
   "source": [
    "#Loading the dataset\n",
    "df=pd.read_csv('newdataset2.csv')"
   ]
  },
  {
   "cell_type": "code",
   "execution_count": 39,
   "metadata": {},
   "outputs": [
    {
     "data": {
      "text/html": [
       "<div>\n",
       "<style>\n",
       "    .dataframe thead tr:only-child th {\n",
       "        text-align: right;\n",
       "    }\n",
       "\n",
       "    .dataframe thead th {\n",
       "        text-align: left;\n",
       "    }\n",
       "\n",
       "    .dataframe tbody tr th {\n",
       "        vertical-align: top;\n",
       "    }\n",
       "</style>\n",
       "<table border=\"1\" class=\"dataframe\">\n",
       "  <thead>\n",
       "    <tr style=\"text-align: right;\">\n",
       "      <th></th>\n",
       "      <th>Age</th>\n",
       "      <th>Overall</th>\n",
       "      <th>Potential</th>\n",
       "      <th>Value</th>\n",
       "      <th>Wage</th>\n",
       "      <th>Special</th>\n",
       "      <th>Acceleration</th>\n",
       "      <th>Aggression</th>\n",
       "      <th>Agility</th>\n",
       "      <th>Balance</th>\n",
       "      <th>...</th>\n",
       "      <th>RCB</th>\n",
       "      <th>RCM</th>\n",
       "      <th>RDM</th>\n",
       "      <th>RF</th>\n",
       "      <th>RM</th>\n",
       "      <th>RS</th>\n",
       "      <th>RW</th>\n",
       "      <th>RWB</th>\n",
       "      <th>ST</th>\n",
       "      <th>Preferred Positions</th>\n",
       "    </tr>\n",
       "  </thead>\n",
       "  <tbody>\n",
       "    <tr>\n",
       "      <th>0</th>\n",
       "      <td>32</td>\n",
       "      <td>94</td>\n",
       "      <td>94</td>\n",
       "      <td>95500000</td>\n",
       "      <td>565000</td>\n",
       "      <td>2228</td>\n",
       "      <td>89</td>\n",
       "      <td>63</td>\n",
       "      <td>89</td>\n",
       "      <td>63</td>\n",
       "      <td>...</td>\n",
       "      <td>53</td>\n",
       "      <td>82</td>\n",
       "      <td>62</td>\n",
       "      <td>91</td>\n",
       "      <td>89</td>\n",
       "      <td>92</td>\n",
       "      <td>91</td>\n",
       "      <td>66</td>\n",
       "      <td>92</td>\n",
       "      <td>ST</td>\n",
       "    </tr>\n",
       "    <tr>\n",
       "      <th>1</th>\n",
       "      <td>30</td>\n",
       "      <td>93</td>\n",
       "      <td>93</td>\n",
       "      <td>105000000</td>\n",
       "      <td>565000</td>\n",
       "      <td>2154</td>\n",
       "      <td>92</td>\n",
       "      <td>48</td>\n",
       "      <td>90</td>\n",
       "      <td>95</td>\n",
       "      <td>...</td>\n",
       "      <td>45</td>\n",
       "      <td>84</td>\n",
       "      <td>59</td>\n",
       "      <td>92</td>\n",
       "      <td>90</td>\n",
       "      <td>88</td>\n",
       "      <td>91</td>\n",
       "      <td>62</td>\n",
       "      <td>88</td>\n",
       "      <td>RW</td>\n",
       "    </tr>\n",
       "    <tr>\n",
       "      <th>2</th>\n",
       "      <td>25</td>\n",
       "      <td>92</td>\n",
       "      <td>94</td>\n",
       "      <td>123000000</td>\n",
       "      <td>280000</td>\n",
       "      <td>2100</td>\n",
       "      <td>94</td>\n",
       "      <td>56</td>\n",
       "      <td>96</td>\n",
       "      <td>82</td>\n",
       "      <td>...</td>\n",
       "      <td>46</td>\n",
       "      <td>79</td>\n",
       "      <td>59</td>\n",
       "      <td>88</td>\n",
       "      <td>87</td>\n",
       "      <td>84</td>\n",
       "      <td>89</td>\n",
       "      <td>64</td>\n",
       "      <td>84</td>\n",
       "      <td>LW</td>\n",
       "    </tr>\n",
       "    <tr>\n",
       "      <th>3</th>\n",
       "      <td>30</td>\n",
       "      <td>92</td>\n",
       "      <td>92</td>\n",
       "      <td>97000000</td>\n",
       "      <td>510000</td>\n",
       "      <td>2291</td>\n",
       "      <td>88</td>\n",
       "      <td>78</td>\n",
       "      <td>86</td>\n",
       "      <td>60</td>\n",
       "      <td>...</td>\n",
       "      <td>58</td>\n",
       "      <td>80</td>\n",
       "      <td>65</td>\n",
       "      <td>88</td>\n",
       "      <td>85</td>\n",
       "      <td>88</td>\n",
       "      <td>87</td>\n",
       "      <td>68</td>\n",
       "      <td>88</td>\n",
       "      <td>ST</td>\n",
       "    </tr>\n",
       "    <tr>\n",
       "      <th>4</th>\n",
       "      <td>28</td>\n",
       "      <td>91</td>\n",
       "      <td>91</td>\n",
       "      <td>92000000</td>\n",
       "      <td>355000</td>\n",
       "      <td>2143</td>\n",
       "      <td>79</td>\n",
       "      <td>80</td>\n",
       "      <td>78</td>\n",
       "      <td>80</td>\n",
       "      <td>...</td>\n",
       "      <td>57</td>\n",
       "      <td>78</td>\n",
       "      <td>62</td>\n",
       "      <td>87</td>\n",
       "      <td>82</td>\n",
       "      <td>88</td>\n",
       "      <td>84</td>\n",
       "      <td>61</td>\n",
       "      <td>88</td>\n",
       "      <td>ST</td>\n",
       "    </tr>\n",
       "    <tr>\n",
       "      <th>5</th>\n",
       "      <td>26</td>\n",
       "      <td>90</td>\n",
       "      <td>91</td>\n",
       "      <td>90500000</td>\n",
       "      <td>295000</td>\n",
       "      <td>2096</td>\n",
       "      <td>93</td>\n",
       "      <td>54</td>\n",
       "      <td>93</td>\n",
       "      <td>91</td>\n",
       "      <td>...</td>\n",
       "      <td>47</td>\n",
       "      <td>81</td>\n",
       "      <td>61</td>\n",
       "      <td>87</td>\n",
       "      <td>87</td>\n",
       "      <td>82</td>\n",
       "      <td>88</td>\n",
       "      <td>64</td>\n",
       "      <td>82</td>\n",
       "      <td>LW</td>\n",
       "    </tr>\n",
       "  </tbody>\n",
       "</table>\n",
       "<p>6 rows × 62 columns</p>\n",
       "</div>"
      ],
      "text/plain": [
       "   Age  Overall  Potential      Value    Wage  Special  Acceleration  \\\n",
       "0   32       94         94   95500000  565000     2228            89   \n",
       "1   30       93         93  105000000  565000     2154            92   \n",
       "2   25       92         94  123000000  280000     2100            94   \n",
       "3   30       92         92   97000000  510000     2291            88   \n",
       "4   28       91         91   92000000  355000     2143            79   \n",
       "5   26       90         91   90500000  295000     2096            93   \n",
       "\n",
       "   Aggression  Agility  Balance         ...           RCB  RCM  RDM  RF  RM  \\\n",
       "0          63       89       63         ...            53   82   62  91  89   \n",
       "1          48       90       95         ...            45   84   59  92  90   \n",
       "2          56       96       82         ...            46   79   59  88  87   \n",
       "3          78       86       60         ...            58   80   65  88  85   \n",
       "4          80       78       80         ...            57   78   62  87  82   \n",
       "5          54       93       91         ...            47   81   61  87  87   \n",
       "\n",
       "   RS  RW  RWB  ST  Preferred Positions  \n",
       "0  92  91   66  92                   ST  \n",
       "1  88  91   62  88                   RW  \n",
       "2  84  89   64  84                   LW  \n",
       "3  88  87   68  88                   ST  \n",
       "4  88  84   61  88                   ST  \n",
       "5  82  88   64  82                   LW  \n",
       "\n",
       "[6 rows x 62 columns]"
      ]
     },
     "execution_count": 39,
     "metadata": {},
     "output_type": "execute_result"
    }
   ],
   "source": [
    "df.head(6)"
   ]
  },
  {
   "cell_type": "code",
   "execution_count": 40,
   "metadata": {
    "collapsed": true
   },
   "outputs": [],
   "source": [
    "y = df['Value'].as_matrix()\n",
    "x = df['Overall'].as_matrix()"
   ]
  },
  {
   "cell_type": "code",
   "execution_count": 41,
   "metadata": {},
   "outputs": [
    {
     "name": "stderr",
     "output_type": "stream",
     "text": [
      "D:\\Anaconda\\lib\\site-packages\\sklearn\\utils\\validation.py:475: DataConversionWarning: Data with input dtype int64 was converted to float64 by the scale function.\n",
      "  warnings.warn(msg, DataConversionWarning)\n"
     ]
    }
   ],
   "source": [
    "from sklearn import linear_model, preprocessing\n",
    "import  sklearn.model_selection\n",
    "from sklearn import linear_model\n",
    "X = preprocessing.scale(x)\n",
    "Y = preprocessing.scale(y)"
   ]
  },
  {
   "cell_type": "code",
   "execution_count": 42,
   "metadata": {
    "collapsed": true
   },
   "outputs": [],
   "source": [
    "import sklearn.model_selection\n",
    "import numpy.polynomial.polynomial as poly"
   ]
  },
  {
   "cell_type": "code",
   "execution_count": 43,
   "metadata": {},
   "outputs": [
    {
     "data": {
      "text/plain": [
       "(15143,)"
      ]
     },
     "execution_count": 43,
     "metadata": {},
     "output_type": "execute_result"
    }
   ],
   "source": [
    "X.shape"
   ]
  },
  {
   "cell_type": "code",
   "execution_count": 44,
   "metadata": {
    "collapsed": true
   },
   "outputs": [],
   "source": [
    "#Using kfold method to find the perfect order\n",
    "nfold = 10\n",
    "kf = sklearn.model_selection.KFold(n_splits=nfold,shuffle=True)\n",
    "\n",
    "# Model orders to be tested\n",
    "dtest = np.arange(0,10)\n",
    "nd = len(dtest)\n",
    "\n",
    "# Loop over the folds\n",
    "RSSts = np.zeros((nd,nfold))\n",
    "for isplit, Ind in enumerate(kf.split(X)):\n",
    "        \n",
    "    # Get the training data in the split\n",
    "    Itr, Its = Ind\n",
    "    xtr = X[Itr]\n",
    "    ytr = Y[Itr]\n",
    "    xts = X[Its]\n",
    "    yts = Y[Its]\n",
    "    \n",
    "    for it, d in enumerate(dtest):\n",
    "    \n",
    "        # Fit data on training data\n",
    "        beta_hat = poly.polyfit(xtr,ytr,d)\n",
    "        \n",
    "        # Measure RSS on test data\n",
    "        yhat = poly.polyval(xts,beta_hat)\n",
    "        RSSts[it,isplit] = np.mean((yhat-yts)**2)"
   ]
  },
  {
   "cell_type": "code",
   "execution_count": 45,
   "metadata": {},
   "outputs": [
    {
     "data": {
      "image/png": "[encoded data removed]",
      "text/plain": [
       "<matplotlib.figure.Figure at 0x189bc666e48>"
      ]
     },
     "metadata": {},
     "output_type": "display_data"
    }
   ],
   "source": [
    "RSS_mean = np.mean(RSSts,axis=1)\n",
    "RSS_std  = np.std(RSSts,axis=1) / np.sqrt(nfold-1)\n",
    "plt.errorbar(dtest, RSS_mean, yerr=RSS_std, fmt='-')\n",
    "plt.ylim(0,1)\n",
    "plt.xlabel('Model order')\n",
    "plt.ylabel('Test RSS')\n",
    "plt.grid()"
   ]
  },
  {
   "cell_type": "code",
   "execution_count": 46,
   "metadata": {},
   "outputs": [
    {
     "name": "stdout",
     "output_type": "stream",
     "text": [
      "The selected model order is 4\n"
     ]
    }
   ],
   "source": [
    "#Finding the order\n",
    "imin = np.argmin(RSS_mean)\n",
    "print(\"The selected model order is {0:d}\".format(dtest[imin]))"
   ]
  },
  {
   "cell_type": "code",
   "execution_count": 47,
   "metadata": {},
   "outputs": [
    {
     "name": "stdout",
     "output_type": "stream",
     "text": [
      "The estimated model order is 4\n"
     ]
    },
    {
     "data": {
      "image/png": "[encoded data removed]",
      "text/plain": [
       "<matplotlib.figure.Figure at 0x189bc6ac940>"
      ]
     },
     "metadata": {},
     "output_type": "display_data"
    }
   ],
   "source": [
    "imin = np.argmin(RSS_mean)\n",
    "RSS_tgt = RSS_mean[imin] + RSS_std[imin]\n",
    "\n",
    "# Find the lowest model order below the target\n",
    "I = np.where(RSS_mean <= RSS_tgt)[0]\n",
    "iopt = I[0]\n",
    "dopt = dtest[iopt]\n",
    "\n",
    "plt.errorbar(dtest, RSS_mean, yerr=RSS_std, fmt='o-')\n",
    "\n",
    "# Plot the line at the RSS target\n",
    "plt.plot([dtest[0],dtest[imin]], [RSS_tgt, RSS_tgt], '--')\n",
    "\n",
    "# Plot the line at the optimal model order\n",
    "plt.plot([dopt,dopt], [0,0.5], 'g--')\n",
    "\n",
    "#plt.ylim(0,1)\n",
    "plt.xlabel('Model order')\n",
    "plt.ylabel('Test RSS')\n",
    "plt.grid()\n",
    "\n",
    "# Print results\n",
    "print(\"The estimated model order is %d\" % dopt)"
   ]
  },
  {
   "cell_type": "code",
   "execution_count": 48,
   "metadata": {},
   "outputs": [
    {
     "name": "stdout",
     "output_type": "stream",
     "text": [
      "Rss per sample=0.084495\n",
      "R^2=           0.915505\n"
     ]
    }
   ],
   "source": [
    "#Calculating the accuracy\n",
    "beta_hat = poly.polyfit(X,Y,dopt)\n",
    "yhat = poly.polyval(X,beta_hat)\n",
    "\n",
    "RSS_tr=np.mean((yhat-Y)**2)/(np.std(Y)**2)\n",
    "Rsq_tr=1-RSS_tr\n",
    "print(\"Rss per sample={0:f}\".format(RSS_tr))\n",
    "print(\"R^2=           {0:f}\".format(Rsq_tr))"
   ]
  },
  {
   "cell_type": "code",
   "execution_count": null,
   "metadata": {
    "collapsed": true
   },
   "outputs": [],
   "source": []
  }
 ],
 "metadata": {
  "kernelspec": {
   "display_name": "Python 3",
   "language": "python",
   "name": "python3"
  },
  "language_info": {
   "codemirror_mode": {
    "name": "ipython",
    "version": 3
   },
   "file_extension": ".py",
   "mimetype": "text/x-python",
   "name": "python",
   "nbconvert_exporter": "python",
   "pygments_lexer": "ipython3",
   "version": "3.6.1"
  }
 },
 "nbformat": 4,
 "nbformat_minor": 2
}
